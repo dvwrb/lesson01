{
 "cells": [
  {
   "cell_type": "code",
   "execution_count": 5,
   "metadata": {},
   "outputs": [
    {
     "name": "stdout",
     "output_type": "stream",
     "text": [
      "a1.csv存檔完成\n"
     ]
    }
   ],
   "source": [
    "import os\n",
    "import student\n",
    "\n",
    "file_name = input(\"請輸入要存檔的檔案名稱:\")\n",
    "root = os.path.abspath(path=\"./\")\n",
    "filePath = os.path.join(root,'csv_data',f'{file_name}.csv')\n",
    "\n",
    "students = student.get_students(student_num=30)\n",
    "students\n",
    "\n",
    "import csv\n",
    "with open(filePath,mode='w',encoding='utf-8',newline='') as file:\n",
    "    csv_writer = csv.writer(file)\n",
    "    csv_writer.writerow(['姓名', \"國文\", \"英文\", \"數學\", \"社會\", \"地理\"])\n",
    "    csv_writer.writerows(students)\n",
    "\n",
    "print(f\"{file_name}.csv存檔完成\")"
   ]
  },
  {
   "cell_type": "code",
   "execution_count": 7,
   "metadata": {},
   "outputs": [
    {
     "data": {
      "text/plain": [
       "[['黃淑芬', 92, 58, 57, 78, 60],\n",
       " ['楊易政', 63, 96, 92, 70, 65],\n",
       " ['周怡啟', 64, 86, 91, 57, 89],\n",
       " ['魏秋萍', 92, 58, 62, 61, 51],\n",
       " ['王德城', 95, 97, 100, 53, 71],\n",
       " ['鄭琇亞', 74, 77, 67, 55, 88],\n",
       " ['李政白', 59, 72, 85, 65, 86],\n",
       " ['馮淑芬', 74, 98, 88, 57, 76],\n",
       " ['張韋成', 71, 74, 56, 75, 90],\n",
       " ['陳志偉', 76, 52, 73, 61, 88],\n",
       " ['胡芳瑜', 69, 73, 71, 75, 95],\n",
       " ['劉耿琦', 80, 73, 59, 70, 95],\n",
       " ['劉旭士', 57, 90, 78, 80, 52],\n",
       " ['蕭淑華', 82, 50, 100, 70, 84],\n",
       " ['陳奇瑄', 67, 56, 61, 91, 61],\n",
       " ['吳昕婷', 95, 50, 83, 56, 94],\n",
       " ['林志成', 84, 54, 78, 85, 86],\n",
       " ['郎慧萍', 59, 79, 75, 78, 51],\n",
       " ['李雅怡', 84, 51, 58, 87, 100],\n",
       " ['余丞苓', 63, 100, 83, 68, 81],\n",
       " ['唐翊修', 83, 88, 69, 98, 86],\n",
       " ['陳文賢', 52, 55, 100, 81, 67],\n",
       " ['蔡至剛', 63, 87, 61, 98, 70],\n",
       " ['高信宏', 96, 64, 79, 80, 70],\n",
       " ['李彥伸', 91, 64, 80, 86, 99],\n",
       " ['楊偉翔', 82, 73, 90, 82, 74],\n",
       " ['金宜芳', 77, 53, 71, 78, 75],\n",
       " ['陳彥治', 89, 91, 87, 91, 61],\n",
       " ['林群清', 52, 86, 59, 91, 66],\n",
       " ['張軒宸', 86, 66, 56, 84, 51],\n",
       " ['劉慧君', 67, 58, 89, 78, 79],\n",
       " ['張凡成', 63, 98, 55, 76, 70],\n",
       " ['陳信念', 65, 92, 86, 51, 94],\n",
       " ['黃名明', 55, 97, 66, 66, 100],\n",
       " ['羅幸娥', 58, 69, 91, 94, 64],\n",
       " ['謝哲維', 77, 74, 84, 50, 64],\n",
       " ['黃江旭', 59, 74, 83, 52, 60],\n",
       " ['藍哲嘉', 56, 78, 89, 76, 82],\n",
       " ['朱士弘', 93, 88, 68, 89, 85],\n",
       " ['黃必琪', 64, 82, 81, 97, 55]]"
      ]
     },
     "metadata": {},
     "output_type": "display_data"
    },
    {
     "name": "stdout",
     "output_type": "stream",
     "text": [
      "a2.csv存檔完成\n"
     ]
    }
   ],
   "source": [
    "import csv\n",
    "nums = int(input(\"請輸入學生數:\"))\n",
    "students = student.get_students(student_num=nums)\n",
    "display(students)\n",
    "\n",
    "fileName = input(\"請問存檔名稱:(名稱,n)\")\n",
    "if fileName != 'n':\n",
    "    root = os.path.abspath(path=\"./\")\n",
    "    filePath = os.path.join(root,'csv_data',f'{fileName}.csv')\n",
    "    with open(filePath,mode='w',encoding='utf-8',newline='') as file:\n",
    "        csv_writer = csv.writer(file)\n",
    "        csv_writer.writerow(['姓名', \"國文\", \"英文\", \"數學\", \"社會\", \"地理\"])\n",
    "        csv_writer.writerows(students)\n",
    "    print(f\"{fileName}.csv存檔完成\")\n",
    "else:\n",
    "    print(\"應用程式結束\")"
   ]
  }
 ],
 "metadata": {
  "kernelspec": {
   "display_name": "Python 3",
   "language": "python",
   "name": "python3"
  },
  "language_info": {
   "codemirror_mode": {
    "name": "ipython",
    "version": 3
   },
   "file_extension": ".py",
   "mimetype": "text/x-python",
   "name": "python",
   "nbconvert_exporter": "python",
   "pygments_lexer": "ipython3",
   "version": "3.10.12"
  },
  "orig_nbformat": 4
 },
 "nbformat": 4,
 "nbformat_minor": 2
}
