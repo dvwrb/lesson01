{
 "cells": [
  {
   "cell_type": "code",
   "execution_count": 1,
   "metadata": {},
   "outputs": [
    {
     "name": "stdout",
     "output_type": "stream",
     "text": [
      "[89, 79, 68, 92, 58]\n",
      "[98, 67, 75, 83, 71]\n",
      "[78, 97, 84, 73, 92]\n"
     ]
    }
   ],
   "source": [
    "score1 = [89, 79, 68, 92, 58]\n",
    "score2 = [98, 67, 75, 83, 71]\n",
    "score3 = [78, 97, 84, 73, 92]\n",
    "\n",
    "students = [score1, score2, score3] #建立\n",
    "for student in students: #取出第2維的資料\n",
    "    print(student)"
   ]
  },
  {
   "cell_type": "code",
   "execution_count": 2,
   "metadata": {},
   "outputs": [
    {
     "data": {
      "text/plain": [
       "[87, 98, 64, 79, 89]"
      ]
     },
     "execution_count": 2,
     "metadata": {},
     "output_type": "execute_result"
    }
   ],
   "source": [
    "import random\n",
    "score = []\n",
    "for _ in range(5):    \n",
    "    score.append(random.randint(50, 100))\n",
    "score"
   ]
  },
  {
   "cell_type": "code",
   "execution_count": 3,
   "metadata": {},
   "outputs": [
    {
     "data": {
      "text/plain": [
       "[59, 65, 96, 87, 79]"
      ]
     },
     "execution_count": 3,
     "metadata": {},
     "output_type": "execute_result"
    }
   ],
   "source": [
    "import random\n",
    "#list comprehension\n",
    "score = [random.randint(50, 100) for _ in range(5)]\n",
    "score"
   ]
  },
  {
   "cell_type": "code",
   "execution_count": 4,
   "metadata": {},
   "outputs": [
    {
     "name": "stdout",
     "output_type": "stream",
     "text": [
      "['胡淑貞', '陳建豪', '王雅慧', '李佳彥', '張凱妮', '陳淑萍', '張韋成', '楊健麟']\n"
     ]
    }
   ],
   "source": [
    "import random\n",
    "def get_all_names() -> list[str]:\n",
    "    with open('names.txt',mode='r',encoding='utf-8') as file:\n",
    "        names:list[str] = []\n",
    "        for line in file:\n",
    "            #names.append(line)\n",
    "            line = line.rstrip('\\n')\n",
    "            names.append(line)\n",
    "        return names\n",
    "    \n",
    "def get_random_names(nums:int) -> list[str]:\n",
    "    names = get_all_names()\n",
    "    random_list = random.choices(names,k=nums)\n",
    "    return random_list\n",
    "\n",
    "names = get_random_names(nums=8)\n",
    "print(names)"
   ]
  },
  {
   "cell_type": "code",
   "execution_count": 5,
   "metadata": {},
   "outputs": [
    {
     "data": {
      "text/plain": [
       "[['張家秀', 94, 87, 99, 82, 55],\n",
       " ['鄭琇亞', 61, 91, 84, 71, 66],\n",
       " ['昌嘉洋', 75, 69, 70, 73, 56]]"
      ]
     },
     "execution_count": 5,
     "metadata": {},
     "output_type": "execute_result"
    }
   ],
   "source": [
    "import random\n",
    "\n",
    "def get_students(student_num:int) -> list[list]:    \n",
    "    students:list[list] = [] #建立第一維list\n",
    "    names = get_random_names(nums=student_num)\n",
    "    for i in range(student_num):\n",
    "        one_student = [random.randint(50, 100) for _ in range(5)] #建立第2維list\n",
    "        name = names[i]\n",
    "        one_student = [name] + one_student\n",
    "        students.append(one_student)\n",
    "    return students\n",
    "\n",
    "get_students(student_num=3)"
   ]
  },
  {
   "cell_type": "code",
   "execution_count": 6,
   "metadata": {},
   "outputs": [
    {
     "data": {
      "text/plain": [
       "['徐國堂', 57, 98, 76, 65, 72]"
      ]
     },
     "execution_count": 6,
     "metadata": {},
     "output_type": "execute_result"
    }
   ],
   "source": [
    "['徐國堂'] + [57, 98, 76, 65, 72]"
   ]
  },
  {
   "cell_type": "code",
   "execution_count": 7,
   "metadata": {},
   "outputs": [
    {
     "data": {
      "text/plain": [
       "[['黃靜怡', 96, 61, 71, 74, 74],\n",
       " ['陳淑萍', 57, 52, 62, 81, 91],\n",
       " ['郎慧萍', 79, 56, 53, 69, 98],\n",
       " ['余月修', 71, 57, 100, 82, 100],\n",
       " ['林淑安', 55, 51, 65, 90, 76],\n",
       " ['洪奎夫', 51, 61, 80, 52, 76],\n",
       " ['白世宏', 54, 59, 59, 77, 92],\n",
       " ['黎惠雯', 63, 55, 82, 95, 64],\n",
       " ['王惠皓', 97, 90, 51, 87, 86],\n",
       " ['景歡燦', 78, 82, 63, 89, 57],\n",
       " ['陳筱涵', 53, 96, 82, 63, 89],\n",
       " ['陳志偉', 98, 62, 77, 57, 65],\n",
       " ['劉林中', 79, 99, 93, 70, 91],\n",
       " ['林淑安', 93, 54, 65, 75, 58],\n",
       " ['胡姿婷', 69, 85, 86, 58, 50],\n",
       " ['楊少亮', 89, 59, 52, 78, 55],\n",
       " ['方雅慧', 73, 87, 66, 72, 96],\n",
       " ['王展人', 61, 62, 93, 74, 86],\n",
       " ['王士銘', 94, 67, 93, 52, 62],\n",
       " ['呂傑宣', 96, 80, 90, 93, 91],\n",
       " ['方筠紹', 63, 85, 83, 94, 63],\n",
       " ['游一鈺', 74, 95, 61, 97, 83],\n",
       " ['鄭佳玲', 54, 51, 77, 79, 90],\n",
       " ['翁均安', 89, 95, 51, 55, 83],\n",
       " ['姜琬婷', 50, 78, 54, 98, 80],\n",
       " ['羅幸娥', 88, 64, 72, 71, 78],\n",
       " ['林希啟', 84, 97, 89, 65, 88],\n",
       " ['溫法堯', 61, 51, 54, 54, 71],\n",
       " ['黎惠雯', 86, 90, 80, 54, 57],\n",
       " ['李佳彥', 52, 92, 83, 85, 91]]"
      ]
     },
     "execution_count": 7,
     "metadata": {},
     "output_type": "execute_result"
    }
   ],
   "source": [
    "import os\n",
    "import student\n",
    "\n",
    "file_name = input(\"請輸入要存檔的檔案名稱:\")\n",
    "root = os.path.abspath(path=\"./\")\n",
    "filePath = os.path.join(root,'csv_data',f'{file_name}.csv')\n",
    "\n",
    "students = student.get_students(student_num=30)\n",
    "students"
   ]
  },
  {
   "cell_type": "code",
   "execution_count": 5,
   "metadata": {},
   "outputs": [
    {
     "data": {
      "text/plain": [
       "'/workspaces/lesson01/csv_data/a3.csv'"
      ]
     },
     "execution_count": 5,
     "metadata": {},
     "output_type": "execute_result"
    }
   ],
   "source": [
    "import os\n",
    "\n",
    "file_name = input(\"請輸入要存檔的檔案名稱:\")\n",
    "root = os.path.abspath(path=\"./\")\n",
    "filePath = os.path.join(root,'csv_data',f'{file_name}.csv')\n",
    "filePath"
   ]
  }
 ],
 "metadata": {
  "kernelspec": {
   "display_name": "Python 3",
   "language": "python",
   "name": "python3"
  },
  "language_info": {
   "codemirror_mode": {
    "name": "ipython",
    "version": 3
   },
   "file_extension": ".py",
   "mimetype": "text/x-python",
   "name": "python",
   "nbconvert_exporter": "python",
   "pygments_lexer": "ipython3",
   "version": "3.10.12"
  },
  "orig_nbformat": 4
 },
 "nbformat": 4,
 "nbformat_minor": 2
}
