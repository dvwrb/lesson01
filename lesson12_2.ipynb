{
 "cells": [
  {
   "cell_type": "code",
   "execution_count": 14,
   "metadata": {},
   "outputs": [
    {
     "name": "stdout",
     "output_type": "stream",
     "text": [
      "目前存檔的檔案:\n",
      "['a2.csv', 'a1.csv']\n",
      "[['趙偉銘', '61', '50', '89', '75', '83'], ['羅幸娥', '89', '93', '94', '85', '73'], ['胡姿婷', '78', '66', '74', '71', '69'], ['林淑安', '71', '90', '90', '77', '50'], ['陳奇瑄', '82', '68', '55', '82', '79'], ['林詠斌', '80', '65', '76', '93', '67'], ['蔡士賢', '75', '92', '80', '81', '52'], ['蔡欣汝', '96', '90', '55', '63', '89'], ['黃志福', '79', '56', '98', '91', '54'], ['賴心怡', '73', '78', '89', '98', '85'], ['楊健麟', '99', '70', '64', '54', '59'], ['陳奇瑄', '71', '93', '59', '97', '83'], ['張彥博', '74', '90', '93', '68', '91'], ['陳建豪', '89', '83', '100', '59', '70'], ['簡國瑋', '74', '56', '53', '84', '89'], ['朱彥志', '74', '89', '66', '58', '54'], ['陳冠竹', '90', '89', '88', '95', '58'], ['吳晴洋', '86', '92', '71', '63', '55'], ['朱惠儀', '97', '96', '68', '62', '95'], ['黃翔杰', '70', '55', '98', '64', '52'], ['杜儀鳳', '91', '57', '50', '85', '62'], ['周家銘', '61', '73', '100', '85', '60'], ['郎慧萍', '94', '75', '74', '96', '93'], ['陳文賢', '69', '79', '99', '88', '89'], ['葉祖雄', '61', '65', '70', '71', '68'], ['趙宛真', '99', '88', '74', '93', '68'], ['高智超', '70', '87', '77', '50', '82'], ['陳志偉', '73', '88', '50', '54', '80'], ['鄭奇翰', '63', '74', '51', '85', '65'], ['王人仰', '73', '69', '97', '63', '98']]\n"
     ]
    }
   ],
   "source": [
    "\n",
    "import os\n",
    "import csv\n",
    "root = os.path.abspath('./')\n",
    "direction = os.path.join(root,\"csv_data\")\n",
    "print(\"目前存檔的檔案:\")\n",
    "print(os.listdir(direction))\n",
    "\n",
    "\n",
    "fileName = input(\"您要載入的檔案是:\")\n",
    "filePath = os.path.join(root,\"csv_data\",fileName)\n",
    "with open(filePath,encoding='utf-8',newline='') as file:\n",
    "    csv_reader = csv.reader(file)\n",
    "    next(csv_reader)\n",
    "    students = list(csv_reader)\n",
    "print(students)\n",
    "\n"
   ]
  }
 ],
 "metadata": {
  "kernelspec": {
   "display_name": "Python 3",
   "language": "python",
   "name": "python3"
  },
  "language_info": {
   "codemirror_mode": {
    "name": "ipython",
    "version": 3
   },
   "file_extension": ".py",
   "mimetype": "text/x-python",
   "name": "python",
   "nbconvert_exporter": "python",
   "pygments_lexer": "ipython3",
   "version": "3.10.12"
  },
  "orig_nbformat": 4
 },
 "nbformat": 4,
 "nbformat_minor": 2
}
